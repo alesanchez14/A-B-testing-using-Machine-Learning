{
  "nbformat": 4,
  "nbformat_minor": 0,
  "metadata": {
    "colab": {
      "provenance": [],
      "authorship_tag": "ABX9TyN2lQuxo6CK3KNiSaRC9Si+",
      "include_colab_link": true
    },
    "kernelspec": {
      "name": "python3",
      "display_name": "Python 3"
    },
    "language_info": {
      "name": "python"
    }
  },
  "cells": [
    {
      "cell_type": "markdown",
      "metadata": {
        "id": "view-in-github",
        "colab_type": "text"
      },
      "source": [
        "<a href=\"https://colab.research.google.com/github/alesanchez14/A-B-testing-using-Machine-Learning/blob/main/A/B_Testing_using_ML.ipynb\" target=\"_parent\"><img src=\"https://colab.research.google.com/assets/colab-badge.svg\" alt=\"Open In Colab\"/></a>"
      ]
    },
    {
      "cell_type": "markdown",
      "source": [
        "**Loading Packages**"
      ],
      "metadata": {
        "id": "TvKvufwkBr-G"
      }
    },
    {
      "cell_type": "code",
      "source": [
        "import pandas as pd  # Equivalent to tidyverse for data manipulation\n",
        "import numpy as np  # For numerical operations\n",
        "import matplotlib.pyplot as plt  # For plotting\n",
        "import seaborn as sns  # For statistical data visualization\n",
        "import sklearn  # Equivalent to parsnip, recipes, rsample, yardstick, and broom for modeling and evaluation\n",
        "import xgboost  # Same library exists in Python\n",
        "from sklearn.utils import shuffle\n",
        "from sklearn.model_selection import train_test_split\n",
        "from sklearn.linear_model import LinearRegression\n",
        "from sklearn.metrics import mean_squared_error, r2_score, mean_absolute_error\n",
        "from sklearn.preprocessing import LabelEncoder\n"
      ],
      "metadata": {
        "id": "W3P5kkAABwTs"
      },
      "execution_count": 1,
      "outputs": []
    },
    {
      "cell_type": "markdown",
      "source": [
        "**Data Loading**"
      ],
      "metadata": {
        "id": "xu6JC3I5CQHF"
      }
    },
    {
      "cell_type": "code",
      "source": [
        "control_tbl = pd.read_csv('control_data.csv')\n",
        "experiment_tbl = pd.read_csv('experiment_data.csv')"
      ],
      "metadata": {
        "id": "i4LYwwKhC99u"
      },
      "execution_count": 2,
      "outputs": []
    },
    {
      "cell_type": "code",
      "source": [
        "#Showing the first 5 rows of control_tbl\n",
        "print(control_tbl.head(5))"
      ],
      "metadata": {
        "id": "DZXZlXZjDJP7",
        "outputId": "7c5adf6a-30ec-4ae8-eee8-ffe1c57c1aa5",
        "colab": {
          "base_uri": "https://localhost:8080/"
        }
      },
      "execution_count": 3,
      "outputs": [
        {
          "output_type": "stream",
          "name": "stdout",
          "text": [
            "          Date  Pageviews  Clicks  Enrollments  Payments\n",
            "0  Sat, Oct 11       7723     687        134.0      70.0\n",
            "1  Sun, Oct 12       9102     779        147.0      70.0\n",
            "2  Mon, Oct 13      10511     909        167.0      95.0\n",
            "3  Tue, Oct 14       9871     836        156.0     105.0\n",
            "4  Wed, Oct 15      10014     837        163.0      64.0\n"
          ]
        }
      ]
    },
    {
      "cell_type": "markdown",
      "source": [
        "We have 5 columns consisting of:\n",
        "\n",
        "-  Date: a character formatted Day, Month, and Day of Month\n",
        "\n",
        "- Pageviews: An aggregated count of Page Views on the given day\n",
        "\n",
        "- Clicks: An aggregated count of Page Clicks on the given day for the page in question\n",
        "\n",
        "- Enrollments: An aggregated count of Enrollments by day.\n",
        "\n",
        "- Payments: An aggregated count of Payments by day."
      ],
      "metadata": {
        "id": "E1QmvbHwDsjA"
      }
    },
    {
      "cell_type": "markdown",
      "source": [
        "**Data Format**"
      ],
      "metadata": {
        "id": "uzL6Na5_FXl9"
      }
    },
    {
      "cell_type": "code",
      "source": [
        "# Displaying basic information about the dataframes\n",
        "print(\"Control Table Info:\")\n",
        "print(control_tbl.info())\n",
        "print(\"\\nExperiment Table Info:\")\n",
        "print(experiment_tbl.info())\n"
      ],
      "metadata": {
        "id": "EXiY4y8ND0RT",
        "outputId": "015b29b2-1cc5-4913-dcdb-9b19306f091f",
        "colab": {
          "base_uri": "https://localhost:8080/"
        }
      },
      "execution_count": 4,
      "outputs": [
        {
          "output_type": "stream",
          "name": "stdout",
          "text": [
            "Control Table Info:\n",
            "<class 'pandas.core.frame.DataFrame'>\n",
            "RangeIndex: 37 entries, 0 to 36\n",
            "Data columns (total 5 columns):\n",
            " #   Column       Non-Null Count  Dtype  \n",
            "---  ------       --------------  -----  \n",
            " 0   Date         37 non-null     object \n",
            " 1   Pageviews    37 non-null     int64  \n",
            " 2   Clicks       37 non-null     int64  \n",
            " 3   Enrollments  23 non-null     float64\n",
            " 4   Payments     23 non-null     float64\n",
            "dtypes: float64(2), int64(2), object(1)\n",
            "memory usage: 1.6+ KB\n",
            "None\n",
            "\n",
            "Experiment Table Info:\n",
            "<class 'pandas.core.frame.DataFrame'>\n",
            "RangeIndex: 37 entries, 0 to 36\n",
            "Data columns (total 5 columns):\n",
            " #   Column       Non-Null Count  Dtype  \n",
            "---  ------       --------------  -----  \n",
            " 0   Date         37 non-null     object \n",
            " 1   Pageviews    37 non-null     int64  \n",
            " 2   Clicks       37 non-null     int64  \n",
            " 3   Enrollments  23 non-null     float64\n",
            " 4   Payments     23 non-null     float64\n",
            "dtypes: float64(2), int64(2), object(1)\n",
            "memory usage: 1.6+ KB\n",
            "None\n"
          ]
        }
      ]
    },
    {
      "cell_type": "code",
      "source": [
        "# Displaying the total number of observations\n",
        "print(f\"\\nTotal observations in control set: {len(control_tbl)}\")\n",
        "print(f\"Total observations in experiment set: {len(experiment_tbl)}\")"
      ],
      "metadata": {
        "id": "SF8gwpfAFogH",
        "outputId": "f4c07e48-4aad-41eb-9b02-f51dfa0885f1",
        "colab": {
          "base_uri": "https://localhost:8080/"
        }
      },
      "execution_count": 5,
      "outputs": [
        {
          "output_type": "stream",
          "name": "stdout",
          "text": [
            "\n",
            "Total observations in control set: 37\n",
            "Total observations in experiment set: 37\n"
          ]
        }
      ]
    },
    {
      "cell_type": "code",
      "source": [
        "# Displaying that the data formats between the control and experiment groups are the same\n",
        "print(\"\\nData format between control and experiment groups is the same.\")\n",
        "\n",
        "# Verifying that the number of observations is the same since the groups were tested in parallel\n",
        "print(f\"Same number of observations ({len(control_tbl)} days) since the groups were tested in parallel.\")\n"
      ],
      "metadata": {
        "id": "nXpEsx-pFoKP",
        "outputId": "1cf4f8f7-c1ca-4bfd-92b5-4dd67f3ec486",
        "colab": {
          "base_uri": "https://localhost:8080/"
        }
      },
      "execution_count": 6,
      "outputs": [
        {
          "output_type": "stream",
          "name": "stdout",
          "text": [
            "\n",
            "Data format between control and experiment groups is the same.\n",
            "Same number of observations (37 days) since the groups were tested in parallel.\n"
          ]
        }
      ]
    },
    {
      "cell_type": "code",
      "source": [
        "print(control_tbl.head(5))"
      ],
      "metadata": {
        "id": "8eB79ImLHVMS",
        "outputId": "9ea7a908-4918-44dd-e362-394be67b2c34",
        "colab": {
          "base_uri": "https://localhost:8080/"
        }
      },
      "execution_count": 7,
      "outputs": [
        {
          "output_type": "stream",
          "name": "stdout",
          "text": [
            "          Date  Pageviews  Clicks  Enrollments  Payments\n",
            "0  Sat, Oct 11       7723     687        134.0      70.0\n",
            "1  Sun, Oct 12       9102     779        147.0      70.0\n",
            "2  Mon, Oct 13      10511     909        167.0      95.0\n",
            "3  Tue, Oct 14       9871     836        156.0     105.0\n",
            "4  Wed, Oct 15      10014     837        163.0      64.0\n"
          ]
        }
      ]
    },
    {
      "cell_type": "markdown",
      "source": [
        "- The control set and the experiment set each comprise 37 observations.\n",
        "- The data is organized based on time and is aggregated daily, although this format may not be ideal for analyzing complex user behaviors.\n",
        "- The 'Date' column is formatted as a character data type, which will be a significant point when addressing data quality. We plan to extract the 'day of the week' features from this column.\n",
        "- Both the experiment and control groups have data in identical formats, with the same number of observations over 37 days, as the groups were tested concurrently."
      ],
      "metadata": {
        "id": "D_IIh6ZNHM4v"
      }
    },
    {
      "cell_type": "markdown",
      "source": [
        "**Exploratory Data Analysis (EDA)**"
      ],
      "metadata": {
        "id": "QC1H7_DKHhAD"
      }
    },
    {
      "cell_type": "code",
      "source": [
        "# Calculating the amount of missing values per column in control_tbl\n",
        "missing_count_control = control_tbl.isnull().sum().reset_index()\n",
        "missing_count_control.columns = ['feature', 'missing_count']\n",
        "missing_count_control = missing_count_control.sort_values(by='missing_count', ascending=False)\n",
        "print(missing_count_control)\n"
      ],
      "metadata": {
        "id": "qKWqpIoFHl0W",
        "outputId": "216d853b-f935-4041-c2e5-39afbd928475",
        "colab": {
          "base_uri": "https://localhost:8080/"
        }
      },
      "execution_count": 8,
      "outputs": [
        {
          "output_type": "stream",
          "name": "stdout",
          "text": [
            "       feature  missing_count\n",
            "3  Enrollments             14\n",
            "4     Payments             14\n",
            "0         Date              0\n",
            "1    Pageviews              0\n",
            "2       Clicks              0\n"
          ]
        }
      ]
    },
    {
      "cell_type": "code",
      "source": [
        "# Calculating the amount of missing values per column in experiment_tbl\n",
        "missing_count_experiment = experiment_tbl.isnull().sum().reset_index()\n",
        "missing_count_experiment.columns = ['feature', 'missing_count']\n",
        "missing_count_experiment = missing_count_experiment.sort_values(by='missing_count', ascending=False)\n",
        "print(missing_count_experiment)"
      ],
      "metadata": {
        "id": "fB9QE0KJHy9n",
        "outputId": "2fa999fe-c2ad-4f72-8115-47e8fa74b930",
        "colab": {
          "base_uri": "https://localhost:8080/"
        }
      },
      "execution_count": 9,
      "outputs": [
        {
          "output_type": "stream",
          "name": "stdout",
          "text": [
            "       feature  missing_count\n",
            "3  Enrollments             14\n",
            "4     Payments             14\n",
            "0         Date              0\n",
            "1    Pageviews              0\n",
            "2       Clicks              0\n"
          ]
        }
      ]
    },
    {
      "cell_type": "markdown",
      "source": [
        "Key Point: We have 14 days of missing observations that we need to investigate.\n",
        "\n",
        "The missing data (NA) is consistent in the experiment set."
      ],
      "metadata": {
        "id": "4pG-GmWqIxQd"
      }
    },
    {
      "cell_type": "markdown",
      "source": [
        "Let’s see which values are missing"
      ],
      "metadata": {
        "id": "a_g_nF1pJdiC"
      }
    },
    {
      "cell_type": "code",
      "source": [
        "# Filtering rows where the Enrollments column is NA in control_tbl\n",
        "control_na_enrollments = control_tbl[control_tbl['Enrollments'].isnull()]\n",
        "print(control_na_enrollments)"
      ],
      "metadata": {
        "id": "mPdOr6XqIyDO",
        "outputId": "831dd007-5991-44b4-ee74-d3081c4809a3",
        "colab": {
          "base_uri": "https://localhost:8080/"
        }
      },
      "execution_count": 45,
      "outputs": [
        {
          "output_type": "stream",
          "name": "stdout",
          "text": [
            "           Date  Pageviews  Clicks  Enrollments  Payments\n",
            "23   Mon, Nov 3       9437     788          NaN       NaN\n",
            "24   Tue, Nov 4       9420     781          NaN       NaN\n",
            "25   Wed, Nov 5       9570     805          NaN       NaN\n",
            "26   Thu, Nov 6       9921     830          NaN       NaN\n",
            "27   Fri, Nov 7       9424     781          NaN       NaN\n",
            "28   Sat, Nov 8       9010     756          NaN       NaN\n",
            "29   Sun, Nov 9       9656     825          NaN       NaN\n",
            "30  Mon, Nov 10      10419     874          NaN       NaN\n",
            "31  Tue, Nov 11       9880     830          NaN       NaN\n",
            "32  Wed, Nov 12      10134     801          NaN       NaN\n",
            "33  Thu, Nov 13       9717     814          NaN       NaN\n",
            "34  Fri, Nov 14       9192     735          NaN       NaN\n",
            "35  Sat, Nov 15       8630     743          NaN       NaN\n",
            "36  Sun, Nov 16       8970     722          NaN       NaN\n"
          ]
        }
      ]
    },
    {
      "cell_type": "code",
      "source": [
        "# Filtering rows where the Enrollments column is NA in control_tbl\n",
        "experiment_na_enrollments = experiment_tbl[experiment_tbl['Enrollments'].isnull()]\n",
        "print(experiment_na_enrollments)\n"
      ],
      "metadata": {
        "id": "CvO2mJSZH0z4",
        "outputId": "6e67f76e-8110-458b-a10a-15a61bd0c458",
        "colab": {
          "base_uri": "https://localhost:8080/"
        }
      },
      "execution_count": 46,
      "outputs": [
        {
          "output_type": "stream",
          "name": "stdout",
          "text": [
            "           Date  Pageviews  Clicks  Enrollments  Payments\n",
            "23   Mon, Nov 3       9359     789          NaN       NaN\n",
            "24   Tue, Nov 4       9427     743          NaN       NaN\n",
            "25   Wed, Nov 5       9633     808          NaN       NaN\n",
            "26   Thu, Nov 6       9842     831          NaN       NaN\n",
            "27   Fri, Nov 7       9272     767          NaN       NaN\n",
            "28   Sat, Nov 8       8969     760          NaN       NaN\n",
            "29   Sun, Nov 9       9697     850          NaN       NaN\n",
            "30  Mon, Nov 10      10445     851          NaN       NaN\n",
            "31  Tue, Nov 11       9931     831          NaN       NaN\n",
            "32  Wed, Nov 12      10042     802          NaN       NaN\n",
            "33  Thu, Nov 13       9721     829          NaN       NaN\n",
            "34  Fri, Nov 14       9304     770          NaN       NaN\n",
            "35  Sat, Nov 15       8668     724          NaN       NaN\n",
            "36  Sun, Nov 16       8988     710          NaN       NaN\n"
          ]
        }
      ]
    },
    {
      "cell_type": "markdown",
      "source": [
        "We don’t have Enrollment information from November 3rd on. We will need to remove these observations."
      ],
      "metadata": {
        "id": "a6cD7-qYJplI"
      }
    },
    {
      "cell_type": "code",
      "source": [
        "print(control_tbl.head(5))"
      ],
      "metadata": {
        "id": "bBqUbQrSKb6S",
        "outputId": "7c33e08c-4e59-474a-f970-3145b251b24f",
        "colab": {
          "base_uri": "https://localhost:8080/"
        }
      },
      "execution_count": 47,
      "outputs": [
        {
          "output_type": "stream",
          "name": "stdout",
          "text": [
            "          Date  Pageviews  Clicks  Enrollments  Payments\n",
            "0  Sat, Oct 11       7723     687        134.0      70.0\n",
            "1  Sun, Oct 12       9102     779        147.0      70.0\n",
            "2  Mon, Oct 13      10511     909        167.0      95.0\n",
            "3  Tue, Oct 14       9871     836        156.0     105.0\n",
            "4  Wed, Oct 15      10014     837        163.0      64.0\n"
          ]
        }
      ]
    },
    {
      "cell_type": "markdown",
      "source": [
        "- Date is in character format. It doesn’t contain year information. Since the experiment was only run for 37 days, we can only realistically use the “Day of Week” as a predictor.\n",
        "\n",
        "- The other columns are all numeric, which is OK. We will predict the number of Enrollments\n",
        "\n",
        "- Payments is an outcome of Enrollments so this should be removed."
      ],
      "metadata": {
        "id": "1QZ2zh_VLIcR"
      }
    },
    {
      "cell_type": "markdown",
      "source": [
        "**Data Cleaning**"
      ],
      "metadata": {
        "id": "Gkn6GVgBLJsi"
      }
    },
    {
      "cell_type": "markdown",
      "source": [
        "- Combine the control_tbl and experiment_tbl, adding an “id” column indicating if the data was part of the experiment or not\n",
        "\n",
        "- Add a “row_id” column to help for tracking which rows are selected for training and testing in the modeling section\n",
        "\n",
        "- Create a “Day of Week” feature from the “Date” column\n",
        "\n",
        "- Drop the unnecessary “Date” column and the “Payments” column\n",
        "\n",
        "- Handle the missing data (NA) by removing these rows.\n",
        "\n",
        "- Shuffle the rows to mix the data up for learning\n",
        "\n",
        "- Reorganize the columns"
      ],
      "metadata": {
        "id": "hDthOWQNLNhT"
      }
    },
    {
      "cell_type": "code",
      "source": [
        "# Setting the seed for reproducibility\n",
        "np.random.seed(123)\n",
        "\n",
        "# Combining the control and experiment data\n",
        "data_formatted_tbl = pd.concat([control_tbl.assign(Experiment=0),\n",
        "                                experiment_tbl.assign(Experiment=1)],\n",
        "                               ignore_index=True)\n",
        "\n",
        "# Adding a row_id column\n",
        "data_formatted_tbl['row_id'] = data_formatted_tbl.index + 1\n",
        "\n",
        "# Creating a \"Day of Week\" feature from the \"Date\" column\n",
        "# Assuming the date is in the format 'Sat, Oct 11'\n",
        "data_formatted_tbl['DOW'] = data_formatted_tbl['Date'].str.split(',').str[0]\n",
        "\n",
        "# Remove Date and Payments columns\n",
        "del data_formatted_tbl['Date'], data_formatted_tbl['Payments']\n",
        "\n",
        "# Remove missing data\n",
        "data_formatted_tbl.dropna(inplace=True)\n",
        "\n",
        "# Shuffle the data\n",
        "data_total = sklearn.utils.shuffle(data_formatted_tbl)\n",
        "\n",
        "# Reordering the columns so that \"DOW\" is after \"Experiment\"\n",
        "columns = ['row_id', 'Enrollments', 'Experiment', 'DOW', 'Pageviews', 'Clicks']\n",
        "data_formatted_tbl = data_formatted_tbl[columns]\n",
        "\n",
        "\n"
      ],
      "metadata": {
        "id": "Ua9izQCNLMby"
      },
      "execution_count": 14,
      "outputs": []
    },
    {
      "cell_type": "code",
      "source": [
        "print(data_formatted_tbl.info())"
      ],
      "metadata": {
        "id": "XAZblrHFLdjw",
        "outputId": "90d5f490-d9b0-4896-902c-d1fa5b8d9ae6",
        "colab": {
          "base_uri": "https://localhost:8080/"
        }
      },
      "execution_count": 15,
      "outputs": [
        {
          "output_type": "stream",
          "name": "stdout",
          "text": [
            "<class 'pandas.core.frame.DataFrame'>\n",
            "Int64Index: 46 entries, 0 to 59\n",
            "Data columns (total 6 columns):\n",
            " #   Column       Non-Null Count  Dtype  \n",
            "---  ------       --------------  -----  \n",
            " 0   row_id       46 non-null     int64  \n",
            " 1   Enrollments  46 non-null     float64\n",
            " 2   Experiment   46 non-null     int64  \n",
            " 3   DOW          46 non-null     object \n",
            " 4   Pageviews    46 non-null     int64  \n",
            " 5   Clicks       46 non-null     int64  \n",
            "dtypes: float64(1), int64(4), object(1)\n",
            "memory usage: 2.5+ KB\n",
            "None\n"
          ]
        }
      ]
    },
    {
      "cell_type": "markdown",
      "source": [
        "**Machine Learning Models**\n",
        "\n",
        "We are going to implement 3 modeling approaches:\n",
        "\n",
        "- Linear Regression\n",
        "\n",
        "- Decision Tree\n",
        "\n",
        "- XGBoost"
      ],
      "metadata": {
        "id": "lCOlYeBONtwu"
      }
    },
    {
      "cell_type": "markdown",
      "source": [
        "**Preparing the data for the model**"
      ],
      "metadata": {
        "id": "vr462m-2NB6P"
      }
    },
    {
      "cell_type": "code",
      "source": [
        "# Splitting the data\n",
        "train_tbl, test_tbl = train_test_split(data_formatted_tbl, test_size=0.2, stratify=data_formatted_tbl['Experiment'], random_state=123)\n",
        "\n",
        "print(\"\\nTraining Data:\")\n",
        "print(train_tbl.info())\n",
        "print(\"\\nTesting Data:\")\n",
        "print(test_tbl.info())"
      ],
      "metadata": {
        "id": "ICjDM1zMoxbR",
        "outputId": "8792e3ae-df5c-40ac-ec7d-4aec4630a43d",
        "colab": {
          "base_uri": "https://localhost:8080/"
        }
      },
      "execution_count": 16,
      "outputs": [
        {
          "output_type": "stream",
          "name": "stdout",
          "text": [
            "\n",
            "Training Data:\n",
            "<class 'pandas.core.frame.DataFrame'>\n",
            "Int64Index: 36 entries, 42 to 8\n",
            "Data columns (total 6 columns):\n",
            " #   Column       Non-Null Count  Dtype  \n",
            "---  ------       --------------  -----  \n",
            " 0   row_id       36 non-null     int64  \n",
            " 1   Enrollments  36 non-null     float64\n",
            " 2   Experiment   36 non-null     int64  \n",
            " 3   DOW          36 non-null     object \n",
            " 4   Pageviews    36 non-null     int64  \n",
            " 5   Clicks       36 non-null     int64  \n",
            "dtypes: float64(1), int64(4), object(1)\n",
            "memory usage: 2.0+ KB\n",
            "None\n",
            "\n",
            "Testing Data:\n",
            "<class 'pandas.core.frame.DataFrame'>\n",
            "Int64Index: 10 entries, 39 to 2\n",
            "Data columns (total 6 columns):\n",
            " #   Column       Non-Null Count  Dtype  \n",
            "---  ------       --------------  -----  \n",
            " 0   row_id       10 non-null     int64  \n",
            " 1   Enrollments  10 non-null     float64\n",
            " 2   Experiment   10 non-null     int64  \n",
            " 3   DOW          10 non-null     object \n",
            " 4   Pageviews    10 non-null     int64  \n",
            " 5   Clicks       10 non-null     int64  \n",
            "dtypes: float64(1), int64(4), object(1)\n",
            "memory usage: 560.0+ bytes\n",
            "None\n"
          ]
        }
      ]
    },
    {
      "cell_type": "code",
      "source": [
        "# Drop the 'row_id' and 'Enrollments' columns from X_train and X_test\n",
        "X_train = train_tbl.drop(columns=['row_id', 'Enrollments'])\n",
        "X_test = test_tbl.drop(columns=['row_id', 'Enrollments'])\n",
        "\n",
        "# The labels (y_train and y_test) remain the same as before\n",
        "y_train = train_tbl['Enrollments']\n",
        "y_test = test_tbl['Enrollments']\n",
        "\n",
        "\n",
        "lb = LabelEncoder()\n",
        "X_train['DOW'] = lb.fit_transform(X_train['DOW'])\n",
        "X_test['DOW'] = lb.transform(X_test['DOW'])"
      ],
      "metadata": {
        "id": "kwD5olqQp6OT"
      },
      "execution_count": 30,
      "outputs": []
    },
    {
      "cell_type": "markdown",
      "source": [
        "**Linear Regression**"
      ],
      "metadata": {
        "id": "RtA9HNTeOC0F"
      }
    },
    {
      "cell_type": "code",
      "source": [
        "print(set(X_train.columns) - set(X_test.columns))\n",
        "print(set(X_test.columns) - set(X_train.columns))\n"
      ],
      "metadata": {
        "id": "wAlivnSWu4oG",
        "outputId": "387ee1b1-6793-4759-a7e9-eaa816d5d916",
        "colab": {
          "base_uri": "https://localhost:8080/"
        }
      },
      "execution_count": 18,
      "outputs": [
        {
          "output_type": "stream",
          "name": "stdout",
          "text": [
            "set()\n",
            "set()\n"
          ]
        }
      ]
    },
    {
      "cell_type": "code",
      "source": [
        "# Fitting the linear regression model\n",
        "model_lm = LinearRegression()\n",
        "model_lm.fit(X_train, y_train)\n",
        "\n",
        "# Making predictions on the test set\n",
        "y_pred = model_lm.predict(X_test)\n",
        "\n",
        "# Calculating the metrics\n",
        "rmse = mean_squared_error(y_test, y_pred, squared=False)  # Root Mean Square Error\n",
        "r2 = r2_score(y_test, y_pred)  # R-squared\n",
        "mae = mean_absolute_error(y_test, y_pred)  # Mean Absolute Error\n",
        "\n",
        "# Creating a DataFrame to display the metrics\n",
        "metrics_df = pd.DataFrame({'Metric': ['RMSE', 'R-squared', 'MAE'],\n",
        "                           'Value': [rmse, r2, mae]})\n",
        "\n",
        "# Displaying the DataFrame\n",
        "print(metrics_df)\n",
        "\n",
        "\n",
        "\n"
      ],
      "metadata": {
        "id": "4jAhoJ6dNtPW",
        "outputId": "26a69f2b-0a66-45c1-fb03-6bdde409bc70",
        "colab": {
          "base_uri": "https://localhost:8080/"
        }
      },
      "execution_count": 19,
      "outputs": [
        {
          "output_type": "stream",
          "name": "stdout",
          "text": [
            "      Metric      Value\n",
            "0       RMSE  25.407516\n",
            "1  R-squared   0.449666\n",
            "2        MAE  19.314832\n"
          ]
        }
      ]
    },
    {
      "cell_type": "code",
      "source": [
        "# Assuming y_pred is the vector of predictions and y_test is the vector of actual values\n",
        "predictions_df = pd.DataFrame({'Observation': range(1, len(y_test) + 1),\n",
        "                               'Actual': y_test.values,\n",
        "                               'Predicted': y_pred})\n",
        "\n",
        "# Transforming the DataFrame for visualization\n",
        "predictions_melted = predictions_df.melt(id_vars='Observation', var_name='Key', value_name='Value')\n",
        "\n",
        "# Visualizing the data\n",
        "plt.figure(figsize=(10, 6))\n",
        "sns.scatterplot(data=predictions_melted, x='Observation', y='Value', hue='Key', palette='Set1')\n",
        "plt.ylim(bottom=0)  # To expand the y-axis limits\n",
        "plt.title('Enrollments: Prediction vs Actual')\n",
        "plt.suptitle('Model 01: Linear Regression (Baseline)')\n",
        "plt.show()\n"
      ],
      "metadata": {
        "id": "YntTXbovOlRt",
        "outputId": "7fb9c634-e2e4-4ff5-d717-b096bb142780",
        "colab": {
          "base_uri": "https://localhost:8080/",
          "height": 602
        }
      },
      "execution_count": 20,
      "outputs": [
        {
          "output_type": "display_data",
          "data": {
            "text/plain": [
              "<Figure size 1000x600 with 1 Axes>"
            ],
            "image/png": "[encoded data removed]"
          },
          "metadata": {}
        }
      ]
    },
    {
      "cell_type": "code",
      "source": [
        "import statsmodels.api as sm\n",
        "\n",
        "\n",
        "# Asumiendo que X_train y y_train son tus datos de entrenamiento\n",
        "# Añadir una constante (i.e., bias o intercepto) a X_train\n",
        "X_train_const = sm.add_constant(X_train)\n",
        "\n",
        "# Ajustar el modelo\n",
        "model_lm = sm.OLS(y_train, X_train_const).fit()\n",
        "\n",
        "# Obteniendo un resumen del modelo en un DataFrame\n",
        "summary_df = model_lm.summary2().tables[1]\n",
        "\n",
        "# Ordenando el DataFrame por p-value\n",
        "summary_df_sorted = summary_df.sort_values(by='P>|t|')\n",
        "# Para mostrar el DataFrame de una manera más bonita, puedes usar el método to_html\n",
        "print(summary_df_sorted)\n"
      ],
      "metadata": {
        "id": "F7iFEmTGXytx",
        "outputId": "91420140-1a27-4996-fcdb-17e2c49f5973",
        "colab": {
          "base_uri": "https://localhost:8080/"
        }
      },
      "execution_count": 21,
      "outputs": [
        {
          "output_type": "stream",
          "name": "stdout",
          "text": [
            "                Coef.   Std.Err.         t     P>|t|     [0.025      0.975]\n",
            "Pageviews    0.062856   0.011572  5.431912  0.000006   0.039255    0.086456\n",
            "Clicks      -0.611624   0.136013 -4.496802  0.000090  -0.889025   -0.334224\n",
            "Experiment -19.277786   7.632705 -2.525682  0.016873 -34.844792   -3.710781\n",
            "const       47.361653  45.036829  1.051621  0.301103 -44.491565  139.214870\n",
            "DOW         -0.349102   2.230342 -0.156524  0.876635  -4.897914    4.199710\n"
          ]
        }
      ]
    },
    {
      "cell_type": "code",
      "source": [
        "# Visualizando la importancia de las características\n",
        "plt.figure(figsize=(10, 6))\n",
        "sns.scatterplot(data=summary_df_sorted, x='P>|t|', y=summary_df_sorted.index, color='#2C3E50')\n",
        "plt.axvline(x=0.05, color='red', linestyle='--')\n",
        "plt.title('Feature Importance')\n",
        "plt.suptitle('Model 01: Linear Regression (Baseline)')\n",
        "plt.show()\n"
      ],
      "metadata": {
        "id": "C9fbZZotTXqK",
        "outputId": "c7f18aa1-fb97-4293-8feb-fb62eaf7f094",
        "colab": {
          "base_uri": "https://localhost:8080/",
          "height": 602
        }
      },
      "execution_count": 22,
      "outputs": [
        {
          "output_type": "display_data",
          "data": {
            "text/plain": [
              "<Figure size 1000x600 with 1 Axes>"
            ],
            "image/png": "[encoded data removed]"
          },
          "metadata": {}
        }
      ]
    },
    {
      "cell_type": "code",
      "source": [
        "pd.DataFrame(model_lm.pvalues)\\\n",
        "    .reset_index()\\\n",
        "    .rename(columns={'index':'Terms', 0:'p_value'})\\\n",
        "    .sort_values('p_value')"
      ],
      "metadata": {
        "id": "hJF6DUp11UTC",
        "outputId": "467facc2-4f45-4a47-efb3-918127879af5",
        "colab": {
          "base_uri": "https://localhost:8080/",
          "height": 206
        }
      },
      "execution_count": 23,
      "outputs": [
        {
          "output_type": "execute_result",
          "data": {
            "text/plain": [
              "        Terms   p_value\n",
              "3   Pageviews  0.000006\n",
              "4      Clicks  0.000090\n",
              "1  Experiment  0.016873\n",
              "0       const  0.301103\n",
              "2         DOW  0.876635"
            ],
            "text/html": [
              "\n",
              "  <div id=\"df-7a578471-fa99-45c6-832d-2ad747d050b4\" class=\"colab-df-container\">\n",
              "    <div>\n",
              "<style scoped>\n",
              "    .dataframe tbody tr th:only-of-type {\n",
              "        vertical-align: middle;\n",
              "    }\n",
              "\n",
              "    .dataframe tbody tr th {\n",
              "        vertical-align: top;\n",
              "    }\n",
              "\n",
              "    .dataframe thead th {\n",
              "        text-align: right;\n",
              "    }\n",
              "</style>\n",
              "<table border=\"1\" class=\"dataframe\">\n",
              "  <thead>\n",
              "    <tr style=\"text-align: right;\">\n",
              "      <th></th>\n",
              "      <th>Terms</th>\n",
              "      <th>p_value</th>\n",
              "    </tr>\n",
              "  </thead>\n",
              "  <tbody>\n",
              "    <tr>\n",
              "      <th>3</th>\n",
              "      <td>Pageviews</td>\n",
              "      <td>0.000006</td>\n",
              "    </tr>\n",
              "    <tr>\n",
              "      <th>4</th>\n",
              "      <td>Clicks</td>\n",
              "      <td>0.000090</td>\n",
              "    </tr>\n",
              "    <tr>\n",
              "      <th>1</th>\n",
              "      <td>Experiment</td>\n",
              "      <td>0.016873</td>\n",
              "    </tr>\n",
              "    <tr>\n",
              "      <th>0</th>\n",
              "      <td>const</td>\n",
              "      <td>0.301103</td>\n",
              "    </tr>\n",
              "    <tr>\n",
              "      <th>2</th>\n",
              "      <td>DOW</td>\n",
              "      <td>0.876635</td>\n",
              "    </tr>\n",
              "  </tbody>\n",
              "</table>\n",
              "</div>\n",
              "    <div class=\"colab-df-buttons\">\n",
              "\n",
              "  <div class=\"colab-df-container\">\n",
              "    <button class=\"colab-df-convert\" onclick=\"convertToInteractive('df-7a578471-fa99-45c6-832d-2ad747d050b4')\"\n",
              "            title=\"Convert this dataframe to an interactive table.\"\n",
              "            style=\"display:none;\">\n",
              "\n",
              "  <svg xmlns=\"http://www.w3.org/2000/svg\" height=\"24px\" viewBox=\"0 -960 960 960\">\n",
              "    <path d=\"M120-120v-720h720v720H120Zm60-500h600v-160H180v160Zm220 220h160v-160H400v160Zm0 220h160v-160H400v160ZM180-400h160v-160H180v160Zm440 0h160v-160H620v160ZM180-180h160v-160H180v160Zm440 0h160v-160H620v160Z\"/>\n",
              "  </svg>\n",
              "    </button>\n",
              "\n",
              "  <style>\n",
              "    .colab-df-container {\n",
              "      display:flex;\n",
              "      gap: 12px;\n",
              "    }\n",
              "\n",
              "    .colab-df-convert {\n",
              "      background-color: #E8F0FE;\n",
              "      border: none;\n",
              "      border-radius: 50%;\n",
              "      cursor: pointer;\n",
              "      display: none;\n",
              "      fill: #1967D2;\n",
              "      height: 32px;\n",
              "      padding: 0 0 0 0;\n",
              "      width: 32px;\n",
              "    }\n",
              "\n",
              "    .colab-df-convert:hover {\n",
              "      background-color: #E2EBFA;\n",
              "      box-shadow: 0px 1px 2px rgba(60, 64, 67, 0.3), 0px 1px 3px 1px rgba(60, 64, 67, 0.15);\n",
              "      fill: #174EA6;\n",
              "    }\n",
              "\n",
              "    .colab-df-buttons div {\n",
              "      margin-bottom: 4px;\n",
              "    }\n",
              "\n",
              "    [theme=dark] .colab-df-convert {\n",
              "      background-color: #3B4455;\n",
              "      fill: #D2E3FC;\n",
              "    }\n",
              "\n",
              "    [theme=dark] .colab-df-convert:hover {\n",
              "      background-color: #434B5C;\n",
              "      box-shadow: 0px 1px 3px 1px rgba(0, 0, 0, 0.15);\n",
              "      filter: drop-shadow(0px 1px 2px rgba(0, 0, 0, 0.3));\n",
              "      fill: #FFFFFF;\n",
              "    }\n",
              "  </style>\n",
              "\n",
              "    <script>\n",
              "      const buttonEl =\n",
              "        document.querySelector('#df-7a578471-fa99-45c6-832d-2ad747d050b4 button.colab-df-convert');\n",
              "      buttonEl.style.display =\n",
              "        google.colab.kernel.accessAllowed ? 'block' : 'none';\n",
              "\n",
              "      async function convertToInteractive(key) {\n",
              "        const element = document.querySelector('#df-7a578471-fa99-45c6-832d-2ad747d050b4');\n",
              "        const dataTable =\n",
              "          await google.colab.kernel.invokeFunction('convertToInteractive',\n",
              "                                                    [key], {});\n",
              "        if (!dataTable) return;\n",
              "\n",
              "        const docLinkHtml = 'Like what you see? Visit the ' +\n",
              "          '<a target=\"_blank\" href=https://colab.research.google.com/notebooks/data_table.ipynb>data table notebook</a>'\n",
              "          + ' to learn more about interactive tables.';\n",
              "        element.innerHTML = '';\n",
              "        dataTable['output_type'] = 'display_data';\n",
              "        await google.colab.output.renderOutput(dataTable, element);\n",
              "        const docLink = document.createElement('div');\n",
              "        docLink.innerHTML = docLinkHtml;\n",
              "        element.appendChild(docLink);\n",
              "      }\n",
              "    </script>\n",
              "  </div>\n",
              "\n",
              "\n",
              "<div id=\"df-3728dc21-e371-4b27-bf4a-b3cbea2a2fe3\">\n",
              "  <button class=\"colab-df-quickchart\" onclick=\"quickchart('df-3728dc21-e371-4b27-bf4a-b3cbea2a2fe3')\"\n",
              "            title=\"Suggest charts.\"\n",
              "            style=\"display:none;\">\n",
              "\n",
              "<svg xmlns=\"http://www.w3.org/2000/svg\" height=\"24px\"viewBox=\"0 0 24 24\"\n",
              "     width=\"24px\">\n",
              "    <g>\n",
              "        <path d=\"M19 3H5c-1.1 0-2 .9-2 2v14c0 1.1.9 2 2 2h14c1.1 0 2-.9 2-2V5c0-1.1-.9-2-2-2zM9 17H7v-7h2v7zm4 0h-2V7h2v10zm4 0h-2v-4h2v4z\"/>\n",
              "    </g>\n",
              "</svg>\n",
              "  </button>\n",
              "\n",
              "<style>\n",
              "  .colab-df-quickchart {\n",
              "      --bg-color: #E8F0FE;\n",
              "      --fill-color: #1967D2;\n",
              "      --hover-bg-color: #E2EBFA;\n",
              "      --hover-fill-color: #174EA6;\n",
              "      --disabled-fill-color: #AAA;\n",
              "      --disabled-bg-color: #DDD;\n",
              "  }\n",
              "\n",
              "  [theme=dark] .colab-df-quickchart {\n",
              "      --bg-color: #3B4455;\n",
              "      --fill-color: #D2E3FC;\n",
              "      --hover-bg-color: #434B5C;\n",
              "      --hover-fill-color: #FFFFFF;\n",
              "      --disabled-bg-color: #3B4455;\n",
              "      --disabled-fill-color: #666;\n",
              "  }\n",
              "\n",
              "  .colab-df-quickchart {\n",
              "    background-color: var(--bg-color);\n",
              "    border: none;\n",
              "    border-radius: 50%;\n",
              "    cursor: pointer;\n",
              "    display: none;\n",
              "    fill: var(--fill-color);\n",
              "    height: 32px;\n",
              "    padding: 0;\n",
              "    width: 32px;\n",
              "  }\n",
              "\n",
              "  .colab-df-quickchart:hover {\n",
              "    background-color: var(--hover-bg-color);\n",
              "    box-shadow: 0 1px 2px rgba(60, 64, 67, 0.3), 0 1px 3px 1px rgba(60, 64, 67, 0.15);\n",
              "    fill: var(--button-hover-fill-color);\n",
              "  }\n",
              "\n",
              "  .colab-df-quickchart-complete:disabled,\n",
              "  .colab-df-quickchart-complete:disabled:hover {\n",
              "    background-color: var(--disabled-bg-color);\n",
              "    fill: var(--disabled-fill-color);\n",
              "    box-shadow: none;\n",
              "  }\n",
              "\n",
              "  .colab-df-spinner {\n",
              "    border: 2px solid var(--fill-color);\n",
              "    border-color: transparent;\n",
              "    border-bottom-color: var(--fill-color);\n",
              "    animation:\n",
              "      spin 1s steps(1) infinite;\n",
              "  }\n",
              "\n",
              "  @keyframes spin {\n",
              "    0% {\n",
              "      border-color: transparent;\n",
              "      border-bottom-color: var(--fill-color);\n",
              "      border-left-color: var(--fill-color);\n",
              "    }\n",
              "    20% {\n",
              "      border-color: transparent;\n",
              "      border-left-color: var(--fill-color);\n",
              "      border-top-color: var(--fill-color);\n",
              "    }\n",
              "    30% {\n",
              "      border-color: transparent;\n",
              "      border-left-color: var(--fill-color);\n",
              "      border-top-color: var(--fill-color);\n",
              "      border-right-color: var(--fill-color);\n",
              "    }\n",
              "    40% {\n",
              "      border-color: transparent;\n",
              "      border-right-color: var(--fill-color);\n",
              "      border-top-color: var(--fill-color);\n",
              "    }\n",
              "    60% {\n",
              "      border-color: transparent;\n",
              "      border-right-color: var(--fill-color);\n",
              "    }\n",
              "    80% {\n",
              "      border-color: transparent;\n",
              "      border-right-color: var(--fill-color);\n",
              "      border-bottom-color: var(--fill-color);\n",
              "    }\n",
              "    90% {\n",
              "      border-color: transparent;\n",
              "      border-bottom-color: var(--fill-color);\n",
              "    }\n",
              "  }\n",
              "</style>\n",
              "\n",
              "  <script>\n",
              "    async function quickchart(key) {\n",
              "      const quickchartButtonEl =\n",
              "        document.querySelector('#' + key + ' button');\n",
              "      quickchartButtonEl.disabled = true;  // To prevent multiple clicks.\n",
              "      quickchartButtonEl.classList.add('colab-df-spinner');\n",
              "      try {\n",
              "        const charts = await google.colab.kernel.invokeFunction(\n",
              "            'suggestCharts', [key], {});\n",
              "      } catch (error) {\n",
              "        console.error('Error during call to suggestCharts:', error);\n",
              "      }\n",
              "      quickchartButtonEl.classList.remove('colab-df-spinner');\n",
              "      quickchartButtonEl.classList.add('colab-df-quickchart-complete');\n",
              "    }\n",
              "    (() => {\n",
              "      let quickchartButtonEl =\n",
              "        document.querySelector('#df-3728dc21-e371-4b27-bf4a-b3cbea2a2fe3 button');\n",
              "      quickchartButtonEl.style.display =\n",
              "        google.colab.kernel.accessAllowed ? 'block' : 'none';\n",
              "    })();\n",
              "  </script>\n",
              "</div>\n",
              "    </div>\n",
              "  </div>\n"
            ]
          },
          "metadata": {},
          "execution_count": 23
        }
      ]
    },
    {
      "cell_type": "markdown",
      "source": [
        "Decision Tree"
      ],
      "metadata": {
        "id": "fGlV5KC_40cx"
      }
    },
    {
      "cell_type": "code",
      "source": [
        "import matplotlib.pyplot as plt\n",
        "from sklearn.tree import DecisionTreeRegressor\n",
        "import seaborn as sns\n",
        "\n",
        "\n",
        "\n",
        "# Create the decision tree regressor\n",
        "model_02_decision_tree = DecisionTreeRegressor(ccp_alpha=0.001, max_depth=5, min_samples_leaf=4)\n",
        "model_02_decision_tree.fit(X_train, y_train)\n",
        "\n",
        "# Make predictions\n",
        "y_pred = model_02_decision_tree.predict(X_test)\n",
        "\n",
        "# Create a DataFrame to hold the actual and predicted values\n",
        "predictions_df = pd.DataFrame({'Actual': y_test, 'Predicted': y_pred})\n",
        "\n",
        "# Melt the DataFrame for easier plotting\n",
        "predictions_melted = predictions_df.melt(value_name='Enrollments', var_name='Type')\n",
        "\n",
        "# Plotting\n",
        "plt.figure(figsize=(10, 6))\n",
        "sns.scatterplot(data=predictions_melted, x=predictions_melted.index, y='Enrollments', hue='Type')\n",
        "plt.title('Enrollments: Prediction vs Actual')\n",
        "plt.suptitle('Model 02: Decision Tree')\n",
        "plt.show()\n",
        "\n"
      ],
      "metadata": {
        "id": "b4TRFp2r38Jf",
        "outputId": "d5edf045-0828-48f4-d257-91819d22341b",
        "colab": {
          "base_uri": "https://localhost:8080/",
          "height": 582
        }
      },
      "execution_count": 31,
      "outputs": [
        {
          "output_type": "display_data",
          "data": {
            "text/plain": [
              "<Figure size 1000x600 with 1 Axes>"
            ],
            "image/png": "[encoded data removed]"
          },
          "metadata": {}
        }
      ]
    }
  ]
}